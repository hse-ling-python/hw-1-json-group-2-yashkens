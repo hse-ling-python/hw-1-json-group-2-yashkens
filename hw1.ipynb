{
 "cells": [
  {
   "cell_type": "code",
   "execution_count": 1,
   "metadata": {},
   "outputs": [],
   "source": [
    "%load_ext pycodestyle_magic\n",
    "%pycodestyle_on"
   ]
  },
  {
   "cell_type": "markdown",
   "metadata": {},
   "source": [
    "# ДЗ 1"
   ]
  },
  {
   "cell_type": "code",
   "execution_count": 2,
   "metadata": {},
   "outputs": [],
   "source": [
    "import json\n",
    "from collections import Counter\n",
    "import re\n",
    "from string import punctuation\n",
    "\n",
    "twitter = []\n",
    "for line in open('hw_3_twitter.json'):\n",
    "    twitter.append(json.loads(line))"
   ]
  },
  {
   "cell_type": "markdown",
   "metadata": {},
   "source": [
    "### 1. Количество твитов в наборе:"
   ]
  },
  {
   "cell_type": "code",
   "execution_count": 3,
   "metadata": {},
   "outputs": [
    {
     "name": "stdout",
     "output_type": "stream",
     "text": [
      "2556\n"
     ]
    }
   ],
   "source": [
    "print(len(twitter))"
   ]
  },
  {
   "cell_type": "markdown",
   "metadata": {},
   "source": [
    "### 2. Процент удаленных записей:"
   ]
  },
  {
   "cell_type": "code",
   "execution_count": 12,
   "metadata": {},
   "outputs": [
    {
     "name": "stdout",
     "output_type": "stream",
     "text": [
      "14.162754303599373%\n"
     ]
    }
   ],
   "source": [
    "deleted = 0\n",
    "for twit in twitter:\n",
    "    if 'delete' in twit.keys():\n",
    "        deleted += 1\n",
    "\n",
    "print(deleted / len(twitter) * 100, '%', sep='')"
   ]
  },
  {
   "cell_type": "markdown",
   "metadata": {},
   "source": [
    "### 3. Самые популярные языки твитов:"
   ]
  },
  {
   "cell_type": "code",
   "execution_count": 5,
   "metadata": {
    "scrolled": true
   },
   "outputs": [
    {
     "name": "stdout",
     "output_type": "stream",
     "text": [
      "en ja es ko th ar und in pt fr "
     ]
    }
   ],
   "source": [
    "langs = []\n",
    "for twit in twitter:\n",
    "    if 'delete' not in twit.keys():\n",
    "        langs.append(twit['lang'])\n",
    "\n",
    "for lang in Counter(langs).most_common(10):\n",
    "    print(lang[0], end=' ')"
   ]
  },
  {
   "cell_type": "markdown",
   "metadata": {},
   "source": [
    "### 4. Количество пользователей, у которых больше одного твита:"
   ]
  },
  {
   "cell_type": "code",
   "execution_count": 14,
   "metadata": {},
   "outputs": [
    {
     "name": "stdout",
     "output_type": "stream",
     "text": [
      "30\n"
     ]
    }
   ],
   "source": [
    "users = []\n",
    "for twit in twitter:\n",
    "    if 'delete' not in twit.keys():\n",
    "        users.append(twit['user']['name'])\n",
    "\n",
    "count = 0\n",
    "for value in Counter(users).values():\n",
    "    if value > 1:\n",
    "        count += 1\n",
    "\n",
    "print(count)"
   ]
  },
  {
   "cell_type": "markdown",
   "metadata": {},
   "source": [
    "### 5. Топ-20 популярных хэштегов:"
   ]
  },
  {
   "cell_type": "code",
   "execution_count": 7,
   "metadata": {},
   "outputs": [
    {
     "name": "stdout",
     "output_type": "stream",
     "text": [
      "BTS, 방탄소년단, AMAs, 人気投票ガチャ, 태형, 뷔, BTSinChicago, BTSLoveYourselfTour, 오늘의방탄, PledgeForSwachhBharat, MPN, PCAs, V, 시카고1회차공연, เป๊กผลิตโชค, JIMIN, running, NCT, 지민, WajahmuPlastik\n"
     ]
    }
   ],
   "source": [
    "hashtags = []\n",
    "for twit in twitter:\n",
    "    if 'delete' not in twit.keys():\n",
    "        for hashtag in twit['entities']['hashtags']:\n",
    "            hashtags.append(hashtag['text'])\n",
    "\n",
    "popular_hashtags = [x[0] for x in Counter(hashtags).most_common(20)]\n",
    "print(', '.join(popular_hashtags))"
   ]
  },
  {
   "cell_type": "markdown",
   "metadata": {},
   "source": [
    "### 6. Частотный словарь анлийских твитов (без ретвитов):\n",
    "Сначала создам функцию, обрабатывающую текст."
   ]
  },
  {
   "cell_type": "code",
   "execution_count": 8,
   "metadata": {},
   "outputs": [],
   "source": [
    "def parse(text):\n",
    "    punct_signs = punctuation\n",
    "    text = text.lower()\n",
    "    for char in punct_signs:\n",
    "        text = text.replace(char, '')\n",
    "    words = text.split()\n",
    "    return words"
   ]
  },
  {
   "cell_type": "markdown",
   "metadata": {},
   "source": [
    "Выводится топ-10 частотных слов с количеством их употреблений."
   ]
  },
  {
   "cell_type": "code",
   "execution_count": 18,
   "metadata": {},
   "outputs": [
    {
     "name": "stdout",
     "output_type": "stream",
     "text": [
      "the : 125, to : 86, a : 75, i : 73, and : 64, is : 50, you : 48, of : 45, for : 42, it : 41\n"
     ]
    }
   ],
   "source": [
    "words = []\n",
    "for twit in twitter:\n",
    "    if 'delete' not in twit.keys():\n",
    "        if twit['lang'] == 'en' and 'retweeted_status' not in twit:\n",
    "            text = twit['text']\n",
    "            words.extend(parse(text))\n",
    "\n",
    "popular_words = [x[0] + ' : ' +\n",
    "                 str(x[1]) for x in Counter(words).most_common(10)]\n",
    "print(', '.join(popular_words))"
   ]
  },
  {
   "cell_type": "markdown",
   "metadata": {},
   "source": [
    "### 7. Пользователи с самым большим количеством подписчиков:"
   ]
  },
  {
   "cell_type": "code",
   "execution_count": 10,
   "metadata": {},
   "outputs": [
    {
     "name": "stdout",
     "output_type": "stream",
     "text": [
      "BTS, 방탄소년단, AMAs, 人気投票ガチャ, 태형, 뷔, BTSinChicago, BTSLoveYourselfTour, 오늘의방탄, PledgeForSwachhBharat\n"
     ]
    }
   ],
   "source": [
    "followers = {}\n",
    "for twit in twitter:\n",
    "    if 'delete' not in twit.keys():\n",
    "        followers[twit['user']['name']] = twit['user']['followers_count']\n",
    "\n",
    "many_followers = [x[0] for x in Counter(hashtags).most_common(10)]\n",
    "print(', '.join(many_followers))"
   ]
  },
  {
   "cell_type": "markdown",
   "metadata": {},
   "source": [
    "### 8. Топ-10 источников твита:"
   ]
  },
  {
   "cell_type": "code",
   "execution_count": 11,
   "metadata": {},
   "outputs": [
    {
     "name": "stdout",
     "output_type": "stream",
     "text": [
      "Twitter for iPhone, Twitter for Android, Twitter Web Client, twittbot.net, Twitter Lite, Twitter for iPad, TweetDeck, Facebook, IFTTT, تطبيق قرآني\n"
     ]
    }
   ],
   "source": [
    "source_names = []\n",
    "for twit in twitter:\n",
    "    if 'delete' not in twit.keys():\n",
    "        source = twit['source']\n",
    "        match = re.search(r'>(.*)</a>', source)\n",
    "        source_names.append(match.group(1))\n",
    "\n",
    "popular_sources = [x[0] for x in Counter(source_names).most_common(10)]\n",
    "print(', '.join(popular_sources))"
   ]
  }
 ],
 "metadata": {
  "kernelspec": {
   "display_name": "Python 3",
   "language": "python",
   "name": "python3"
  },
  "language_info": {
   "codemirror_mode": {
    "name": "ipython",
    "version": 3
   },
   "file_extension": ".py",
   "mimetype": "text/x-python",
   "name": "python",
   "nbconvert_exporter": "python",
   "pygments_lexer": "ipython3",
   "version": "3.7.3"
  }
 },
 "nbformat": 4,
 "nbformat_minor": 2
}
